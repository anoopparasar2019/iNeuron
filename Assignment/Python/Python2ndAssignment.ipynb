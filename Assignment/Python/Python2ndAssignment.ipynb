{
 "cells": [
  {
   "cell_type": "code",
   "execution_count": 1,
   "metadata": {},
   "outputs": [
    {
     "name": "stdout",
     "output_type": "stream",
     "text": [
      "* \n",
      "\n",
      "* * \n",
      "\n",
      "* * * \n",
      "\n",
      "* * * * \n",
      "\n",
      "* * * * * \n",
      "\n",
      "* * * * \n",
      "\n",
      "* * * \n",
      "\n",
      "* * \n",
      "\n",
      "* \n",
      "\n"
     ]
    }
   ],
   "source": [
    "# outer loop to handle number of rows \n",
    "    # n in this case \n",
    "n = 5\n",
    "for i in range(0, n):\n",
    "    # inner loop to handle number of columns \n",
    "    # values changing acc. to outer loop \n",
    "    for j in range(0, i+1):\n",
    "        # printing stars \n",
    "        print(\"* \",end=\"\") \n",
    "        # ending line after each row \n",
    "    print(\"\\n\")\n",
    "    # Here, we need to start from 4 to 0 by reducing step value -1\n",
    "for k in range(n-1,0,-1):\n",
    "    for m in range (0,k):\n",
    "        print(\"* \", end=\"\")\n",
    "    print(\"\\n\")"
   ]
  },
  {
   "cell_type": "code",
   "execution_count": 2,
   "metadata": {},
   "outputs": [
    {
     "name": "stdout",
     "output_type": "stream",
     "text": [
      "Enter any word from the disctionarydalda\n",
      "adlad\n",
      "adlad\n"
     ]
    }
   ],
   "source": [
    "list_output = []\n",
    "list_output = input(\"Enter any word from the disctionary\")\n",
    "print(list_output[::-1])\n",
    "print(list_output[::-1].lower())"
   ]
  },
  {
   "cell_type": "code",
   "execution_count": null,
   "metadata": {},
   "outputs": [],
   "source": []
  }
 ],
 "metadata": {
  "kernelspec": {
   "display_name": "Python 3",
   "language": "python",
   "name": "python3"
  },
  "language_info": {
   "codemirror_mode": {
    "name": "ipython",
    "version": 3
   },
   "file_extension": ".py",
   "mimetype": "text/x-python",
   "name": "python",
   "nbconvert_exporter": "python",
   "pygments_lexer": "ipython3",
   "version": "3.7.3"
  }
 },
 "nbformat": 4,
 "nbformat_minor": 2
}
