{
 "cells": [
  {
   "cell_type": "code",
   "execution_count": 3,
   "metadata": {},
   "outputs": [],
   "source": [
    "def divide_funct(num1, num2):\n",
    "    result = 1\n",
    "    try:\n",
    "       result = num1/num2\n",
    "    except(ZeroDivisionError):\n",
    "        print(\"Received divide by Zero error\")\n",
    "    except:\n",
    "        print(\"Received unhandled exception\")\n",
    "    else:\n",
    "        print(\"Result is \", result)\n",
    "    finally:\n",
    "        print(\"Finally return the value\")\n",
    "    return result"
   ]
  },
  {
   "cell_type": "code",
   "execution_count": 4,
   "metadata": {},
   "outputs": [
    {
     "name": "stdout",
     "output_type": "stream",
     "text": [
      "Please enter an integer: 5\n",
      "Please enter an integer: 0\n",
      "Received divide by Zero error\n",
      "Finally return the value\n",
      "Result is : 1\n"
     ]
    }
   ],
   "source": [
    "val1 = int(input(\"Please enter an integer: \"))\n",
    "val2 = int(input(\"Please enter an integer: \"))\n",
    "res = divide_funct(val1,val2)\n",
    "print(\"Result is :\", res)"
   ]
  },
  {
   "cell_type": "code",
   "execution_count": 26,
   "metadata": {},
   "outputs": [],
   "source": [
    "subjects = [\"Americans\",\"Indians\"]\n",
    "verbs = [\"play\",\"watch\"]\n",
    "objects = [\"Baseball\",\"Cricket\"]"
   ]
  },
  {
   "cell_type": "code",
   "execution_count": 30,
   "metadata": {},
   "outputs": [
    {
     "name": "stdout",
     "output_type": "stream",
     "text": [
      "Americans play Baseball.\n",
      "Americans play Cricket.\n",
      "Americans watch Baseball.\n",
      "Americans watch Cricket.\n",
      "Indians play Baseball.\n",
      "Indians play Cricket.\n",
      "Indians watch Baseball.\n",
      "Indians watch Cricket.\n"
     ]
    }
   ],
   "source": [
    "result1 = subjects[0] + \" \" + verbs[0]\n",
    "i = 0\n",
    "j = 0\n",
    "k = 0\n",
    "l = 0\n",
    "while i < len(objects):\n",
    "    print(subjects[0] + \" \"+ verbs[0]+ \" \" + objects[i] + \".\")\n",
    "    i += 1\n",
    "while j < len(objects):\n",
    "    print(subjects[0] + \" \"+ verbs[1]+ \" \" + objects[j] + \".\")\n",
    "    j += 1\n",
    "while k < len(objects):\n",
    "    print(subjects[1] + \" \"+ verbs[0]+ \" \" + objects[k] + \".\")\n",
    "    k += 1\n",
    "while l < len(objects):\n",
    "    print(subjects[1] + \" \"+ verbs[1]+ \" \" + objects[l] + \".\")\n",
    "    l += 1\n",
    " "
   ]
  },
  {
   "cell_type": "code",
   "execution_count": null,
   "metadata": {},
   "outputs": [],
   "source": []
  }
 ],
 "metadata": {
  "kernelspec": {
   "display_name": "Python 3",
   "language": "python",
   "name": "python3"
  },
  "language_info": {
   "codemirror_mode": {
    "name": "ipython",
    "version": 3
   },
   "file_extension": ".py",
   "mimetype": "text/x-python",
   "name": "python",
   "nbconvert_exporter": "python",
   "pygments_lexer": "ipython3",
   "version": "3.7.3"
  }
 },
 "nbformat": 4,
 "nbformat_minor": 2
}
